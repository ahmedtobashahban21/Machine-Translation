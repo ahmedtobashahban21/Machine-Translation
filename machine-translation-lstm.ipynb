{
 "cells": [
  {
   "cell_type": "markdown",
   "id": "f7c6192f",
   "metadata": {
    "papermill": {
     "duration": 0.008239,
     "end_time": "2023-07-20T15:34:14.857430",
     "exception": false,
     "start_time": "2023-07-20T15:34:14.849191",
     "status": "completed"
    },
    "tags": []
   },
   "source": [
    "<center><h1 style =\"font-size:300%; background-color:green; color:yellow; padding:50px;font-family:Garamond;\"><b> Machine Translation Using Seq2Seq Model<b></h1></center>"
   ]
  },
  {
   "cell_type": "markdown",
   "id": "ec71c8d6",
   "metadata": {
    "papermill": {
     "duration": 0.00778,
     "end_time": "2023-07-20T15:34:14.873464",
     "exception": false,
     "start_time": "2023-07-20T15:34:14.865684",
     "status": "completed"
    },
    "tags": []
   },
   "source": [
    "<center><h1 style =\"font-size:200%; background-color:green; color:yellow; padding:15px;font-family:Garamond;\"><b> How It Work<b></h1></center>"
   ]
  },
  {
   "cell_type": "markdown",
   "id": "081ed50c",
   "metadata": {
    "papermill": {
     "duration": 0.00769,
     "end_time": "2023-07-20T15:34:14.888874",
     "exception": false,
     "start_time": "2023-07-20T15:34:14.881184",
     "status": "completed"
    },
    "tags": []
   },
   "source": [
    "- feed the embedding vectors for source sequences(German), to the encoder network, one word at time \n",
    "- Encode the input sentences into fixed dimention state vectors. At this step we get the hidden and cell states from the encoder LSTM, and feed it into Decoder LSTM.\n",
    "- these states are regarded as initial states by decoder. additionally, it also hase the embedding vectors for for target words(English)\n",
    "- Decode and output the translated sentences, one word at the time. in this step the output of the decoder is sent to softmax layer over the entire target vocabulery."
   ]
  },
  {
   "cell_type": "markdown",
   "id": "695f1ea3",
   "metadata": {
    "papermill": {
     "duration": 0.007553,
     "end_time": "2023-07-20T15:34:14.904391",
     "exception": false,
     "start_time": "2023-07-20T15:34:14.896838",
     "status": "completed"
    },
    "tags": []
   },
   "source": [
    "<center><h1 style =\"font-size:300%; background-color:green; color:yellow; padding:15px;font-family:Garamond;\"><b> Importing<b></h1></center>"
   ]
  },
  {
   "cell_type": "code",
   "execution_count": 1,
   "id": "897672b8",
   "metadata": {
    "execution": {
     "iopub.execute_input": "2023-07-20T15:34:14.921731Z",
     "iopub.status.busy": "2023-07-20T15:34:14.921033Z",
     "iopub.status.idle": "2023-07-20T15:34:31.243028Z",
     "shell.execute_reply": "2023-07-20T15:34:31.241946Z"
    },
    "papermill": {
     "duration": 16.33363,
     "end_time": "2023-07-20T15:34:31.245637",
     "exception": false,
     "start_time": "2023-07-20T15:34:14.912007",
     "status": "completed"
    },
    "tags": []
   },
   "outputs": [
    {
     "name": "stderr",
     "output_type": "stream",
     "text": [
      "/opt/conda/lib/python3.10/site-packages/scipy/__init__.py:146: UserWarning: A NumPy version >=1.16.5 and <1.23.0 is required for this version of SciPy (detected version 1.23.5\n",
      "  warnings.warn(f\"A NumPy version >={np_minversion} and <{np_maxversion}\"\n",
      "/opt/conda/lib/python3.10/site-packages/tensorflow_io/python/ops/__init__.py:98: UserWarning: unable to load libtensorflow_io_plugins.so: unable to open file: libtensorflow_io_plugins.so, from paths: ['/opt/conda/lib/python3.10/site-packages/tensorflow_io/python/ops/libtensorflow_io_plugins.so']\n",
      "caused by: ['/opt/conda/lib/python3.10/site-packages/tensorflow_io/python/ops/libtensorflow_io_plugins.so: undefined symbol: _ZN3tsl6StatusC1EN10tensorflow5error4CodeESt17basic_string_viewIcSt11char_traitsIcEENS_14SourceLocationE']\n",
      "  warnings.warn(f\"unable to load libtensorflow_io_plugins.so: {e}\")\n",
      "/opt/conda/lib/python3.10/site-packages/tensorflow_io/python/ops/__init__.py:104: UserWarning: file system plugins are not loaded: unable to open file: libtensorflow_io.so, from paths: ['/opt/conda/lib/python3.10/site-packages/tensorflow_io/python/ops/libtensorflow_io.so']\n",
      "caused by: ['/opt/conda/lib/python3.10/site-packages/tensorflow_io/python/ops/libtensorflow_io.so: undefined symbol: _ZTVN10tensorflow13GcsFileSystemE']\n",
      "  warnings.warn(f\"file system plugins are not loaded: {e}\")\n"
     ]
    }
   ],
   "source": [
    "import string \n",
    "import re\n",
    "import numpy as np \n",
    "import pandas as pd \n",
    "import matplotlib.pyplot as plt \n",
    "import tensorflow as tf\n",
    "from keras.layers import Dense , LSTM ,Embedding , RepeatVector\n",
    "from keras.models import load_model , Sequential \n",
    "from keras.preprocessing.text import Tokenizer \n",
    "from keras.utils import pad_sequences\n",
    "from keras.callbacks import ModelCheckpoint \n",
    "from keras import optimizers \n",
    "import warnings \n",
    "warnings.filterwarnings('ignore')\n",
    "%matplotlib inline \n",
    "pd.set_option('display.max_colwidth',200)"
   ]
  },
  {
   "cell_type": "markdown",
   "id": "6452d538",
   "metadata": {
    "papermill": {
     "duration": 0.00784,
     "end_time": "2023-07-20T15:34:31.261770",
     "exception": false,
     "start_time": "2023-07-20T15:34:31.253930",
     "status": "completed"
    },
    "tags": []
   },
   "source": [
    "# helper functions "
   ]
  },
  {
   "cell_type": "code",
   "execution_count": 2,
   "id": "0ceb1785",
   "metadata": {
    "execution": {
     "iopub.execute_input": "2023-07-20T15:34:31.279276Z",
     "iopub.status.busy": "2023-07-20T15:34:31.278689Z",
     "iopub.status.idle": "2023-07-20T15:34:31.285437Z",
     "shell.execute_reply": "2023-07-20T15:34:31.284337Z"
    },
    "papermill": {
     "duration": 0.017862,
     "end_time": "2023-07-20T15:34:31.287636",
     "exception": false,
     "start_time": "2023-07-20T15:34:31.269774",
     "status": "completed"
    },
    "tags": []
   },
   "outputs": [],
   "source": [
    "def load_data(file_name):\n",
    "    file = open(file_name ,mode='rt' , encoding='utf-8')\n",
    "    text =file.read()\n",
    "    file.close()\n",
    "    return text\n",
    "\n",
    "\n",
    "def lines(text):\n",
    "    text_line = text.strip().split('\\n')\n",
    "    final_text = [i.split('\\t') for i in text_line]\n",
    "    return final_text\n",
    "    "
   ]
  },
  {
   "cell_type": "code",
   "execution_count": 3,
   "id": "22698c86",
   "metadata": {
    "execution": {
     "iopub.execute_input": "2023-07-20T15:34:31.305936Z",
     "iopub.status.busy": "2023-07-20T15:34:31.305337Z",
     "iopub.status.idle": "2023-07-20T15:34:34.014686Z",
     "shell.execute_reply": "2023-07-20T15:34:34.013588Z"
    },
    "papermill": {
     "duration": 2.721106,
     "end_time": "2023-07-20T15:34:34.017204",
     "exception": false,
     "start_time": "2023-07-20T15:34:31.296098",
     "status": "completed"
    },
    "tags": []
   },
   "outputs": [],
   "source": [
    "file_name =\"../input/bilingual-sentence-pairs/deu.txt\"\n",
    "# load data \n",
    "text = load_data(file_name)\n",
    "# split data\n",
    "data = lines(text)\n",
    "data = np.array(data)"
   ]
  },
  {
   "cell_type": "code",
   "execution_count": 4,
   "id": "d7d16d1a",
   "metadata": {
    "execution": {
     "iopub.execute_input": "2023-07-20T15:34:34.035057Z",
     "iopub.status.busy": "2023-07-20T15:34:34.034241Z",
     "iopub.status.idle": "2023-07-20T15:34:34.041158Z",
     "shell.execute_reply": "2023-07-20T15:34:34.040246Z"
    },
    "papermill": {
     "duration": 0.017662,
     "end_time": "2023-07-20T15:34:34.043052",
     "exception": false,
     "start_time": "2023-07-20T15:34:34.025390",
     "status": "completed"
    },
    "tags": []
   },
   "outputs": [
    {
     "data": {
      "text/plain": [
       "227080"
      ]
     },
     "execution_count": 4,
     "metadata": {},
     "output_type": "execute_result"
    }
   ],
   "source": [
    "len(data)"
   ]
  },
  {
   "cell_type": "code",
   "execution_count": 5,
   "id": "2da0ce8c",
   "metadata": {
    "execution": {
     "iopub.execute_input": "2023-07-20T15:34:34.060878Z",
     "iopub.status.busy": "2023-07-20T15:34:34.060082Z",
     "iopub.status.idle": "2023-07-20T15:34:34.067406Z",
     "shell.execute_reply": "2023-07-20T15:34:34.066549Z"
    },
    "papermill": {
     "duration": 0.018482,
     "end_time": "2023-07-20T15:34:34.069596",
     "exception": false,
     "start_time": "2023-07-20T15:34:34.051114",
     "status": "completed"
    },
    "tags": []
   },
   "outputs": [
    {
     "data": {
      "text/plain": [
       "50000"
      ]
     },
     "execution_count": 5,
     "metadata": {},
     "output_type": "execute_result"
    }
   ],
   "source": [
    "data = data[:50000]\n",
    "len(data)"
   ]
  },
  {
   "cell_type": "code",
   "execution_count": 6,
   "id": "aa84c835",
   "metadata": {
    "execution": {
     "iopub.execute_input": "2023-07-20T15:34:34.086976Z",
     "iopub.status.busy": "2023-07-20T15:34:34.086695Z",
     "iopub.status.idle": "2023-07-20T15:34:34.715396Z",
     "shell.execute_reply": "2023-07-20T15:34:34.714429Z"
    },
    "papermill": {
     "duration": 0.640451,
     "end_time": "2023-07-20T15:34:34.718070",
     "exception": false,
     "start_time": "2023-07-20T15:34:34.077619",
     "status": "completed"
    },
    "tags": []
   },
   "outputs": [],
   "source": [
    "#let's do some preprocessing on data \n",
    "# remove punctuations \n",
    "\n",
    "data[: , 0] = [s.translate(str.maketrans('' ,'', string.punctuation ) ) for s in data[:,0]] \n",
    "data[: , 1] = [s.translate(str.maketrans('','', string.punctuation )) for s in data[:,1]]"
   ]
  },
  {
   "cell_type": "code",
   "execution_count": 7,
   "id": "6680747b",
   "metadata": {
    "execution": {
     "iopub.execute_input": "2023-07-20T15:34:34.737186Z",
     "iopub.status.busy": "2023-07-20T15:34:34.736897Z",
     "iopub.status.idle": "2023-07-20T15:34:35.055791Z",
     "shell.execute_reply": "2023-07-20T15:34:35.054801Z"
    },
    "papermill": {
     "duration": 0.330523,
     "end_time": "2023-07-20T15:34:35.058255",
     "exception": false,
     "start_time": "2023-07-20T15:34:34.727732",
     "status": "completed"
    },
    "tags": []
   },
   "outputs": [],
   "source": [
    "# convert all to lower case \n",
    "\n",
    "for i in range(len(data)):\n",
    "    data[i,0] = data[i,0].lower()\n",
    "    data[i,1] = data[i,1].lower()"
   ]
  },
  {
   "cell_type": "code",
   "execution_count": 8,
   "id": "44872ae0",
   "metadata": {
    "execution": {
     "iopub.execute_input": "2023-07-20T15:34:35.078796Z",
     "iopub.status.busy": "2023-07-20T15:34:35.077267Z",
     "iopub.status.idle": "2023-07-20T15:34:35.085122Z",
     "shell.execute_reply": "2023-07-20T15:34:35.083952Z"
    },
    "papermill": {
     "duration": 0.020703,
     "end_time": "2023-07-20T15:34:35.087947",
     "exception": false,
     "start_time": "2023-07-20T15:34:35.067244",
     "status": "completed"
    },
    "tags": []
   },
   "outputs": [
    {
     "data": {
      "text/plain": [
       "array([['go', 'geh',\n",
       "        'CC-BY 2.0 (France) Attribution: tatoeba.org #2877272 (CM) & #8597805 (Roujin)'],\n",
       "       ['hi', 'hallo',\n",
       "        'CC-BY 2.0 (France) Attribution: tatoeba.org #538123 (CM) & #380701 (cburgmer)'],\n",
       "       ['hi', 'grüß gott',\n",
       "        'CC-BY 2.0 (France) Attribution: tatoeba.org #538123 (CM) & #659813 (Esperantostern)'],\n",
       "       ...,\n",
       "       ['im giving up smoking', 'ich höre mit dem rauchen auf',\n",
       "        'CC-BY 2.0 (France) Attribution: tatoeba.org #256952 (minshirui) & #407184 (MUIRIEL)'],\n",
       "       ['im glad i was nearby', 'ich bin froh dass ich in der nähe war',\n",
       "        'CC-BY 2.0 (France) Attribution: tatoeba.org #2547219 (CK) & #3448316 (Pfirsichbaeumchen)'],\n",
       "       ['im glad tom has gone', 'ich bin froh dass tom weg ist',\n",
       "        'CC-BY 2.0 (France) Attribution: tatoeba.org #2547217 (CK) & #5299642 (Pfirsichbaeumchen)']],\n",
       "      dtype='<U537')"
      ]
     },
     "execution_count": 8,
     "metadata": {},
     "output_type": "execute_result"
    }
   ],
   "source": [
    "data"
   ]
  },
  {
   "cell_type": "markdown",
   "id": "193968c3",
   "metadata": {
    "papermill": {
     "duration": 0.008707,
     "end_time": "2023-07-20T15:34:35.105563",
     "exception": false,
     "start_time": "2023-07-20T15:34:35.096856",
     "status": "completed"
    },
    "tags": []
   },
   "source": [
    "- let's do some show "
   ]
  },
  {
   "cell_type": "code",
   "execution_count": 9,
   "id": "1ed616fc",
   "metadata": {
    "execution": {
     "iopub.execute_input": "2023-07-20T15:34:35.124473Z",
     "iopub.status.busy": "2023-07-20T15:34:35.124192Z",
     "iopub.status.idle": "2023-07-20T15:34:35.839586Z",
     "shell.execute_reply": "2023-07-20T15:34:35.838678Z"
    },
    "papermill": {
     "duration": 0.727757,
     "end_time": "2023-07-20T15:34:35.842130",
     "exception": false,
     "start_time": "2023-07-20T15:34:35.114373",
     "status": "completed"
    },
    "tags": []
   },
   "outputs": [
    {
     "data": {
      "image/png": "[encoded data removed]",
      "text/plain": [
       "<Figure size 640x480 with 1 Axes>"
      ]
     },
     "metadata": {},
     "output_type": "display_data"
    }
   ],
   "source": [
    "eng_length = []\n",
    "ger_length= []\n",
    "\n",
    "\n",
    "for i in range(len(data)):\n",
    "    eng_length.append(len(data[i,0]))\n",
    "    ger_length.append(len(data[i,1]))\n",
    "    \n",
    "    \n",
    "    \n",
    "df_show = pd.DataFrame({'eng':eng_length , 'ger':ger_length})\n",
    "plt.title('Sentence  information')\n",
    "plt.xlabel('word count')\n",
    "plt.ylabel('sentence count')\n",
    "plt.hist(df_show)\n",
    "plt.legend(['germany','english'])\n",
    "plt.show()"
   ]
  },
  {
   "cell_type": "code",
   "execution_count": 10,
   "id": "dfeeaa23",
   "metadata": {
    "execution": {
     "iopub.execute_input": "2023-07-20T15:34:35.863112Z",
     "iopub.status.busy": "2023-07-20T15:34:35.861353Z",
     "iopub.status.idle": "2023-07-20T15:34:36.513319Z",
     "shell.execute_reply": "2023-07-20T15:34:36.512304Z"
    },
    "papermill": {
     "duration": 0.664446,
     "end_time": "2023-07-20T15:34:36.515472",
     "exception": false,
     "start_time": "2023-07-20T15:34:35.851026",
     "status": "completed"
    },
    "tags": []
   },
   "outputs": [
    {
     "data": {
      "text/plain": [
       "array([[<Axes: title={'center': 'eng'}>, <Axes: title={'center': 'ger'}>]],\n",
       "      dtype=object)"
      ]
     },
     "execution_count": 10,
     "metadata": {},
     "output_type": "execute_result"
    },
    {
     "data": {
      "image/png": "[encoded data removed]",
      "text/plain": [
       "<Figure size 640x480 with 2 Axes>"
      ]
     },
     "metadata": {},
     "output_type": "display_data"
    }
   ],
   "source": [
    "df_show.hist(bins =30)"
   ]
  },
  {
   "cell_type": "code",
   "execution_count": 11,
   "id": "974c88ac",
   "metadata": {
    "execution": {
     "iopub.execute_input": "2023-07-20T15:34:36.536476Z",
     "iopub.status.busy": "2023-07-20T15:34:36.536172Z",
     "iopub.status.idle": "2023-07-20T15:34:36.543209Z",
     "shell.execute_reply": "2023-07-20T15:34:36.542158Z"
    },
    "papermill": {
     "duration": 0.020194,
     "end_time": "2023-07-20T15:34:36.545330",
     "exception": false,
     "start_time": "2023-07-20T15:34:36.525136",
     "status": "completed"
    },
    "tags": []
   },
   "outputs": [],
   "source": [
    "# tokenize function \n",
    "def tokenize(lines):\n",
    "    tokenizer = Tokenizer()\n",
    "    tokenizer.fit_on_texts(lines)\n",
    "    return tokenizer\n",
    "\n",
    "# encoding function \n",
    "\n",
    "def encoding(tokenizer , length , lines):\n",
    "    encode_line = tokenizer.texts_to_sequences(lines)\n",
    "    ## make padding to get all sentence with same length \n",
    "    pad_line = pad_sequences(encode_line , maxlen= length ,padding='post')\n",
    "    return pad_line"
   ]
  },
  {
   "cell_type": "code",
   "execution_count": 12,
   "id": "bc2b4183",
   "metadata": {
    "execution": {
     "iopub.execute_input": "2023-07-20T15:34:36.566745Z",
     "iopub.status.busy": "2023-07-20T15:34:36.565989Z",
     "iopub.status.idle": "2023-07-20T15:34:38.045711Z",
     "shell.execute_reply": "2023-07-20T15:34:38.044697Z"
    },
    "papermill": {
     "duration": 1.493072,
     "end_time": "2023-07-20T15:34:38.048197",
     "exception": false,
     "start_time": "2023-07-20T15:34:36.555125",
     "status": "completed"
    },
    "tags": []
   },
   "outputs": [],
   "source": [
    "# prepare english tokenizer \n",
    "eng_tokenizer = tokenize(data[:,0])\n",
    "eng_vocab_size= len(eng_tokenizer.word_index) +1\n",
    "# prepare german tokenizer \n",
    "ger_tokenizer = tokenize(data[:,1])\n",
    "ger_vocab_size= len(ger_tokenizer.word_index) +1\n",
    "\n",
    "\n",
    "eng_length =8\n",
    "ger_length =8\n"
   ]
  },
  {
   "cell_type": "code",
   "execution_count": 13,
   "id": "64455e37",
   "metadata": {
    "execution": {
     "iopub.execute_input": "2023-07-20T15:34:38.070647Z",
     "iopub.status.busy": "2023-07-20T15:34:38.068859Z",
     "iopub.status.idle": "2023-07-20T15:34:41.296973Z",
     "shell.execute_reply": "2023-07-20T15:34:41.295965Z"
    },
    "papermill": {
     "duration": 3.241592,
     "end_time": "2023-07-20T15:34:41.299574",
     "exception": false,
     "start_time": "2023-07-20T15:34:38.057982",
     "status": "completed"
    },
    "tags": []
   },
   "outputs": [],
   "source": [
    "# now we will split our data and  encode it to get it into the model \n",
    "from sklearn.model_selection import train_test_split\n",
    "\n",
    "train_data , valid_data = train_test_split(data , test_size=0.1 ,shuffle=True , random_state=42)\n",
    "# just remember that we want to translate from germany to english so input is ger and output is eng\n",
    "X_train = encoding(ger_tokenizer , ger_length ,train_data[:,1])\n",
    "X_valid = encoding(ger_tokenizer , ger_length ,valid_data[:,1])\n",
    "\n",
    "y_train = encoding(eng_tokenizer , eng_length ,train_data[:,0])\n",
    "y_valid = encoding(eng_tokenizer , eng_length ,valid_data[:,0])"
   ]
  },
  {
   "cell_type": "markdown",
   "id": "8be4893d",
   "metadata": {
    "papermill": {
     "duration": 0.009833,
     "end_time": "2023-07-20T15:34:41.319262",
     "exception": false,
     "start_time": "2023-07-20T15:34:41.309429",
     "status": "completed"
    },
    "tags": []
   },
   "source": [
    "<center><h1 style =\"font-size:200%; background-color:green; color:yellow; padding:15px;font-family:Garamond;\"><b> Model<b></h1></center>"
   ]
  },
  {
   "cell_type": "code",
   "execution_count": 14,
   "id": "badcd302",
   "metadata": {
    "execution": {
     "iopub.execute_input": "2023-07-20T15:34:41.340416Z",
     "iopub.status.busy": "2023-07-20T15:34:41.339487Z",
     "iopub.status.idle": "2023-07-20T15:34:41.346376Z",
     "shell.execute_reply": "2023-07-20T15:34:41.345482Z"
    },
    "papermill": {
     "duration": 0.019431,
     "end_time": "2023-07-20T15:34:41.348352",
     "exception": false,
     "start_time": "2023-07-20T15:34:41.328921",
     "status": "completed"
    },
    "tags": []
   },
   "outputs": [],
   "source": [
    "def Build_Model(input_vocab , output_vocab , input_len ,output_len ,units):\n",
    "    model = Sequential()\n",
    "    model.add(Embedding(input_vocab , units ,input_length =input_len , mask_zero =True))\n",
    "    model.add(LSTM(units))\n",
    "    model.add(RepeatVector(output_len))\n",
    "    model.add(LSTM(units , return_sequences =True))\n",
    "    model.add(Dense(output_vocab , activation ='softmax'))\n",
    "    return model"
   ]
  },
  {
   "cell_type": "code",
   "execution_count": 15,
   "id": "bee6577e",
   "metadata": {
    "execution": {
     "iopub.execute_input": "2023-07-20T15:34:41.368900Z",
     "iopub.status.busy": "2023-07-20T15:34:41.368279Z",
     "iopub.status.idle": "2023-07-20T15:34:48.932029Z",
     "shell.execute_reply": "2023-07-20T15:34:48.930859Z"
    },
    "papermill": {
     "duration": 7.576603,
     "end_time": "2023-07-20T15:34:48.934463",
     "exception": false,
     "start_time": "2023-07-20T15:34:41.357860",
     "status": "completed"
    },
    "tags": []
   },
   "outputs": [],
   "source": [
    "Translate_Model = Build_Model(ger_vocab_size ,eng_vocab_size , ger_length , eng_length ,512)\n",
    "optim = optimizers.RMSprop(lr=1e-4)\n",
    "# let's compile our model \n",
    "Translate_Model.compile(optimizer=optim , loss='sparse_categorical_crossentropy')"
   ]
  },
  {
   "cell_type": "markdown",
   "id": "3469785a",
   "metadata": {
    "papermill": {
     "duration": 0.009059,
     "end_time": "2023-07-20T15:34:48.953135",
     "exception": false,
     "start_time": "2023-07-20T15:34:48.944076",
     "status": "completed"
    },
    "tags": []
   },
   "source": [
    "<center><h1 style =\"font-size:200%; background-color:green; color:yellow; padding:15px;font-family:Garamond;\"><b> Training <b></h1></center>"
   ]
  },
  {
   "cell_type": "markdown",
   "id": "4b64b59a",
   "metadata": {
    "papermill": {
     "duration": 0.008976,
     "end_time": "2023-07-20T15:34:48.971675",
     "exception": false,
     "start_time": "2023-07-20T15:34:48.962699",
     "status": "completed"
    },
    "tags": []
   },
   "source": [
    "- Checkpoint save the minimum validation loss, so it's recomended to use.\n"
   ]
  },
  {
   "cell_type": "code",
   "execution_count": 16,
   "id": "fef1f15f",
   "metadata": {
    "execution": {
     "iopub.execute_input": "2023-07-20T15:34:48.991416Z",
     "iopub.status.busy": "2023-07-20T15:34:48.991105Z",
     "iopub.status.idle": "2023-07-20T15:44:16.312836Z",
     "shell.execute_reply": "2023-07-20T15:44:16.311448Z"
    },
    "papermill": {
     "duration": 567.335028,
     "end_time": "2023-07-20T15:44:16.315677",
     "exception": false,
     "start_time": "2023-07-20T15:34:48.980649",
     "status": "completed"
    },
    "tags": []
   },
   "outputs": [
    {
     "name": "stdout",
     "output_type": "stream",
     "text": [
      "Epoch 1/30\n",
      "70/71 [============================>.] - ETA: 0s - loss: 5.3622\n",
      "Epoch 1: val_loss improved from inf to 3.67733, saving model to Translate_Model.h1\n",
      "71/71 [==============================] - 31s 282ms/step - loss: 5.3549 - val_loss: 3.6773\n",
      "Epoch 2/30\n",
      "70/71 [============================>.] - ETA: 0s - loss: 3.4056\n",
      "Epoch 2: val_loss improved from 3.67733 to 3.19158, saving model to Translate_Model.h1\n",
      "71/71 [==============================] - 18s 250ms/step - loss: 3.4047 - val_loss: 3.1916\n",
      "Epoch 3/30\n",
      "70/71 [============================>.] - ETA: 0s - loss: 3.0555\n",
      "Epoch 3: val_loss improved from 3.19158 to 2.98269, saving model to Translate_Model.h1\n",
      "71/71 [==============================] - 19s 271ms/step - loss: 3.0550 - val_loss: 2.9827\n",
      "Epoch 4/30\n",
      "70/71 [============================>.] - ETA: 0s - loss: 2.9113\n",
      "Epoch 4: val_loss improved from 2.98269 to 2.89504, saving model to Translate_Model.h1\n",
      "71/71 [==============================] - 17s 248ms/step - loss: 2.9108 - val_loss: 2.8950\n",
      "Epoch 5/30\n",
      "70/71 [============================>.] - ETA: 0s - loss: 2.8365\n",
      "Epoch 5: val_loss improved from 2.89504 to 2.83964, saving model to Translate_Model.h1\n",
      "71/71 [==============================] - 19s 271ms/step - loss: 2.8366 - val_loss: 2.8396\n",
      "Epoch 6/30\n",
      "70/71 [============================>.] - ETA: 0s - loss: 2.7860\n",
      "Epoch 6: val_loss improved from 2.83964 to 2.80681, saving model to Translate_Model.h1\n",
      "71/71 [==============================] - 17s 245ms/step - loss: 2.7861 - val_loss: 2.8068\n",
      "Epoch 7/30\n",
      "70/71 [============================>.] - ETA: 0s - loss: 2.7514\n",
      "Epoch 7: val_loss improved from 2.80681 to 2.77809, saving model to Translate_Model.h1\n",
      "71/71 [==============================] - 19s 271ms/step - loss: 2.7511 - val_loss: 2.7781\n",
      "Epoch 8/30\n",
      "70/71 [============================>.] - ETA: 0s - loss: 2.7246\n",
      "Epoch 8: val_loss improved from 2.77809 to 2.76186, saving model to Translate_Model.h1\n",
      "71/71 [==============================] - 18s 255ms/step - loss: 2.7245 - val_loss: 2.7619\n",
      "Epoch 9/30\n",
      "70/71 [============================>.] - ETA: 0s - loss: 2.7008\n",
      "Epoch 9: val_loss improved from 2.76186 to 2.74420, saving model to Translate_Model.h1\n",
      "71/71 [==============================] - 18s 249ms/step - loss: 2.7010 - val_loss: 2.7442\n",
      "Epoch 10/30\n",
      "70/71 [============================>.] - ETA: 0s - loss: 2.6802\n",
      "Epoch 10: val_loss improved from 2.74420 to 2.72077, saving model to Translate_Model.h1\n",
      "71/71 [==============================] - 19s 276ms/step - loss: 2.6803 - val_loss: 2.7208\n",
      "Epoch 11/30\n",
      "70/71 [============================>.] - ETA: 0s - loss: 2.6591\n",
      "Epoch 11: val_loss improved from 2.72077 to 2.70174, saving model to Translate_Model.h1\n",
      "71/71 [==============================] - 17s 245ms/step - loss: 2.6591 - val_loss: 2.7017\n",
      "Epoch 12/30\n",
      "70/71 [============================>.] - ETA: 0s - loss: 2.6341\n",
      "Epoch 12: val_loss improved from 2.70174 to 2.67519, saving model to Translate_Model.h1\n",
      "71/71 [==============================] - 19s 273ms/step - loss: 2.6338 - val_loss: 2.6752\n",
      "Epoch 13/30\n",
      "70/71 [============================>.] - ETA: 0s - loss: 2.6066\n",
      "Epoch 13: val_loss improved from 2.67519 to 2.66266, saving model to Translate_Model.h1\n",
      "71/71 [==============================] - 17s 248ms/step - loss: 2.6071 - val_loss: 2.6627\n",
      "Epoch 14/30\n",
      "70/71 [============================>.] - ETA: 0s - loss: 2.5805\n",
      "Epoch 14: val_loss improved from 2.66266 to 2.64585, saving model to Translate_Model.h1\n",
      "71/71 [==============================] - 19s 272ms/step - loss: 2.5805 - val_loss: 2.6459\n",
      "Epoch 15/30\n",
      "70/71 [============================>.] - ETA: 0s - loss: 2.5555\n",
      "Epoch 15: val_loss improved from 2.64585 to 2.61481, saving model to Translate_Model.h1\n",
      "71/71 [==============================] - 18s 259ms/step - loss: 2.5556 - val_loss: 2.6148\n",
      "Epoch 16/30\n",
      "70/71 [============================>.] - ETA: 0s - loss: 2.5322\n",
      "Epoch 16: val_loss improved from 2.61481 to 2.58817, saving model to Translate_Model.h1\n",
      "71/71 [==============================] - 18s 252ms/step - loss: 2.5323 - val_loss: 2.5882\n",
      "Epoch 17/30\n",
      "70/71 [============================>.] - ETA: 0s - loss: 2.5085\n",
      "Epoch 17: val_loss improved from 2.58817 to 2.57218, saving model to Translate_Model.h1\n",
      "71/71 [==============================] - 19s 273ms/step - loss: 2.5083 - val_loss: 2.5722\n",
      "Epoch 18/30\n",
      "70/71 [============================>.] - ETA: 0s - loss: 2.4855\n",
      "Epoch 18: val_loss improved from 2.57218 to 2.54880, saving model to Translate_Model.h1\n",
      "71/71 [==============================] - 17s 246ms/step - loss: 2.4855 - val_loss: 2.5488\n",
      "Epoch 19/30\n",
      "70/71 [============================>.] - ETA: 0s - loss: 2.4608\n",
      "Epoch 19: val_loss improved from 2.54880 to 2.52847, saving model to Translate_Model.h1\n",
      "71/71 [==============================] - 19s 275ms/step - loss: 2.4606 - val_loss: 2.5285\n",
      "Epoch 20/30\n",
      "70/71 [============================>.] - ETA: 0s - loss: 2.4368\n",
      "Epoch 20: val_loss improved from 2.52847 to 2.51317, saving model to Translate_Model.h1\n",
      "71/71 [==============================] - 17s 247ms/step - loss: 2.4366 - val_loss: 2.5132\n",
      "Epoch 21/30\n",
      "70/71 [============================>.] - ETA: 0s - loss: 2.4126\n",
      "Epoch 21: val_loss improved from 2.51317 to 2.48565, saving model to Translate_Model.h1\n",
      "71/71 [==============================] - 19s 275ms/step - loss: 2.4127 - val_loss: 2.4856\n",
      "Epoch 22/30\n",
      "70/71 [============================>.] - ETA: 0s - loss: 2.3916\n",
      "Epoch 22: val_loss improved from 2.48565 to 2.46756, saving model to Translate_Model.h1\n",
      "71/71 [==============================] - 19s 267ms/step - loss: 2.3914 - val_loss: 2.4676\n",
      "Epoch 23/30\n",
      "70/71 [============================>.] - ETA: 0s - loss: 2.3689\n",
      "Epoch 23: val_loss improved from 2.46756 to 2.44611, saving model to Translate_Model.h1\n",
      "71/71 [==============================] - 18s 249ms/step - loss: 2.3688 - val_loss: 2.4461\n",
      "Epoch 24/30\n",
      "70/71 [============================>.] - ETA: 0s - loss: 2.3478\n",
      "Epoch 24: val_loss improved from 2.44611 to 2.43018, saving model to Translate_Model.h1\n",
      "71/71 [==============================] - 19s 275ms/step - loss: 2.3475 - val_loss: 2.4302\n",
      "Epoch 25/30\n",
      "70/71 [============================>.] - ETA: 0s - loss: 2.3259\n",
      "Epoch 25: val_loss improved from 2.43018 to 2.40863, saving model to Translate_Model.h1\n",
      "71/71 [==============================] - 17s 247ms/step - loss: 2.3259 - val_loss: 2.4086\n",
      "Epoch 26/30\n",
      "70/71 [============================>.] - ETA: 0s - loss: 2.3049\n",
      "Epoch 26: val_loss improved from 2.40863 to 2.39483, saving model to Translate_Model.h1\n",
      "71/71 [==============================] - 19s 275ms/step - loss: 2.3046 - val_loss: 2.3948\n",
      "Epoch 27/30\n",
      "70/71 [============================>.] - ETA: 0s - loss: 2.2842\n",
      "Epoch 27: val_loss improved from 2.39483 to 2.38023, saving model to Translate_Model.h1\n",
      "71/71 [==============================] - 18s 251ms/step - loss: 2.2841 - val_loss: 2.3802\n",
      "Epoch 28/30\n",
      "70/71 [============================>.] - ETA: 0s - loss: 2.2642\n",
      "Epoch 28: val_loss improved from 2.38023 to 2.36904, saving model to Translate_Model.h1\n",
      "71/71 [==============================] - 19s 270ms/step - loss: 2.2641 - val_loss: 2.3690\n",
      "Epoch 29/30\n",
      "70/71 [============================>.] - ETA: 0s - loss: 2.2450\n",
      "Epoch 29: val_loss improved from 2.36904 to 2.34297, saving model to Translate_Model.h1\n",
      "71/71 [==============================] - 19s 265ms/step - loss: 2.2449 - val_loss: 2.3430\n",
      "Epoch 30/30\n",
      "70/71 [============================>.] - ETA: 0s - loss: 2.2257\n",
      "Epoch 30: val_loss improved from 2.34297 to 2.33690, saving model to Translate_Model.h1\n",
      "71/71 [==============================] - 17s 248ms/step - loss: 2.2257 - val_loss: 2.3369\n"
     ]
    }
   ],
   "source": [
    "file_name = 'Translate_Model.h1'\n",
    "check_point = ModelCheckpoint(file_name,monitor='val_loss' ,verbose=1 ,save_best_only=True,mode='min')\n",
    "\n",
    "history = Translate_Model.fit(X_train ,y_train.reshape(y_train.shape[0],y_train.shape[1],1)\n",
    "                ,epochs=30,batch_size=512 ,validation_split=0.2 ,callbacks=[check_point] , verbose=1)\n"
   ]
  },
  {
   "cell_type": "markdown",
   "id": "b738e0b9",
   "metadata": {
    "papermill": {
     "duration": 0.172291,
     "end_time": "2023-07-20T15:44:16.722238",
     "exception": false,
     "start_time": "2023-07-20T15:44:16.549947",
     "status": "completed"
    },
    "tags": []
   },
   "source": [
    "<center><h1 style =\"font-size:200%; background-color:green; color:yellow; padding:15px;font-family:Garamond;\"><b> Train Result<b></h1></center>"
   ]
  },
  {
   "cell_type": "code",
   "execution_count": 17,
   "id": "3e022da1",
   "metadata": {
    "execution": {
     "iopub.execute_input": "2023-07-20T15:44:17.080046Z",
     "iopub.status.busy": "2023-07-20T15:44:17.079668Z",
     "iopub.status.idle": "2023-07-20T15:44:17.354658Z",
     "shell.execute_reply": "2023-07-20T15:44:17.353651Z"
    },
    "papermill": {
     "duration": 0.456593,
     "end_time": "2023-07-20T15:44:17.356910",
     "exception": false,
     "start_time": "2023-07-20T15:44:16.900317",
     "status": "completed"
    },
    "tags": []
   },
   "outputs": [
    {
     "data": {
      "image/png": "[encoded data removed]",
      "text/plain": [
       "<Figure size 640x480 with 1 Axes>"
      ]
     },
     "metadata": {},
     "output_type": "display_data"
    }
   ],
   "source": [
    "plt.plot(history.history['loss'])\n",
    "plt.plot(history.history['val_loss'])\n",
    "plt.legend(['train','valid'])\n",
    "plt.show()"
   ]
  },
  {
   "cell_type": "markdown",
   "id": "36eab19f",
   "metadata": {
    "papermill": {
     "duration": 0.17247,
     "end_time": "2023-07-20T15:44:17.710119",
     "exception": false,
     "start_time": "2023-07-20T15:44:17.537649",
     "status": "completed"
    },
    "tags": []
   },
   "source": [
    "<center><h1 style =\"font-size:200%; background-color:green; color:yellow; padding:15px;font-family:Garamond;\"><b> Test Model<b></h1></center>"
   ]
  },
  {
   "cell_type": "code",
   "execution_count": 18,
   "id": "55be2272",
   "metadata": {
    "execution": {
     "iopub.execute_input": "2023-07-20T15:44:18.060198Z",
     "iopub.status.busy": "2023-07-20T15:44:18.059264Z",
     "iopub.status.idle": "2023-07-20T15:44:26.381662Z",
     "shell.execute_reply": "2023-07-20T15:44:26.380578Z"
    },
    "papermill": {
     "duration": 8.498685,
     "end_time": "2023-07-20T15:44:26.384480",
     "exception": false,
     "start_time": "2023-07-20T15:44:17.885795",
     "status": "completed"
    },
    "tags": []
   },
   "outputs": [],
   "source": [
    "# load trained model \n",
    "model = load_model(file_name)"
   ]
  },
  {
   "cell_type": "code",
   "execution_count": 19,
   "id": "35be0412",
   "metadata": {
    "execution": {
     "iopub.execute_input": "2023-07-20T15:44:26.742414Z",
     "iopub.status.busy": "2023-07-20T15:44:26.742061Z",
     "iopub.status.idle": "2023-07-20T15:44:30.823746Z",
     "shell.execute_reply": "2023-07-20T15:44:30.822652Z"
    },
    "papermill": {
     "duration": 4.263298,
     "end_time": "2023-07-20T15:44:30.826544",
     "exception": false,
     "start_time": "2023-07-20T15:44:26.563246",
     "status": "completed"
    },
    "tags": []
   },
   "outputs": [
    {
     "name": "stdout",
     "output_type": "stream",
     "text": [
      "157/157 [==============================] - 2s 5ms/step\n"
     ]
    }
   ],
   "source": [
    "# get prediction\n",
    "preds = model.predict(X_valid.reshape((X_valid.shape[0] , X_valid.shape[1])))"
   ]
  },
  {
   "cell_type": "code",
   "execution_count": 20,
   "id": "363cef63",
   "metadata": {
    "execution": {
     "iopub.execute_input": "2023-07-20T15:44:31.184098Z",
     "iopub.status.busy": "2023-07-20T15:44:31.183740Z",
     "iopub.status.idle": "2023-07-20T15:44:31.195652Z",
     "shell.execute_reply": "2023-07-20T15:44:31.194565Z"
    },
    "papermill": {
     "duration": 0.194184,
     "end_time": "2023-07-20T15:44:31.198138",
     "exception": false,
     "start_time": "2023-07-20T15:44:31.003954",
     "status": "completed"
    },
    "tags": []
   },
   "outputs": [
    {
     "data": {
      "text/plain": [
       "array([[[7.10899476e-05, 3.61569203e-03, 2.33638822e-03, ...,\n",
       "         5.06683904e-08, 1.45017452e-07, 1.05002258e-07],\n",
       "        [6.70391237e-05, 1.01225637e-01, 8.91747710e-04, ...,\n",
       "         5.14259497e-08, 1.81455516e-06, 1.29336070e-06],\n",
       "        [1.25328754e-03, 2.85680354e-01, 2.35740351e-03, ...,\n",
       "         1.29555275e-07, 4.15423017e-07, 2.91875466e-07],\n",
       "        ...,\n",
       "        [9.95272100e-01, 2.07570018e-04, 7.65685684e-07, ...,\n",
       "         8.81765327e-09, 2.64071459e-10, 2.45197501e-10],\n",
       "        [9.99453247e-01, 1.20081377e-05, 1.26089375e-07, ...,\n",
       "         4.02892109e-10, 8.46813852e-12, 7.25997387e-12],\n",
       "        [9.99714434e-01, 4.14943042e-06, 6.13039646e-08, ...,\n",
       "         1.44966053e-10, 2.96000767e-12, 2.35522040e-12]],\n",
       "\n",
       "       [[1.73218810e-04, 4.44523757e-03, 8.16766697e-04, ...,\n",
       "         1.59166177e-07, 3.53067719e-07, 2.86659571e-07],\n",
       "        [2.34700696e-04, 3.24612111e-02, 2.51546269e-04, ...,\n",
       "         2.30556253e-07, 5.68383939e-06, 4.60653200e-06],\n",
       "        [7.02999812e-03, 2.96596214e-02, 5.98626852e-04, ...,\n",
       "         8.04618594e-07, 1.59141086e-06, 1.15046441e-06],\n",
       "        ...,\n",
       "        [9.98999894e-01, 1.17540476e-05, 1.34076032e-07, ...,\n",
       "         1.30537070e-09, 2.93434305e-11, 2.66083128e-11],\n",
       "        [9.99717414e-01, 2.30894466e-06, 3.61194274e-08, ...,\n",
       "         1.84661106e-10, 4.05980761e-12, 3.47097524e-12],\n",
       "        [9.99765694e-01, 1.69554596e-06, 2.98405354e-08, ...,\n",
       "         1.32352324e-10, 2.91561740e-12, 2.45390860e-12]],\n",
       "\n",
       "       [[6.54448522e-03, 3.60661140e-03, 8.14024825e-03, ...,\n",
       "         2.85017213e-05, 2.54228562e-05, 2.37784843e-05],\n",
       "        [1.32468134e-01, 9.24694352e-03, 3.84335057e-04, ...,\n",
       "         2.31292688e-06, 3.32878244e-06, 3.11556983e-06],\n",
       "        [7.13947535e-01, 1.82616699e-03, 5.97714143e-06, ...,\n",
       "         2.11061274e-06, 5.99313182e-07, 6.54414976e-07],\n",
       "        ...,\n",
       "        [9.98561800e-01, 1.12612579e-05, 1.33074522e-07, ...,\n",
       "         1.56381785e-09, 1.18400512e-10, 1.15484282e-10],\n",
       "        [9.98769224e-01, 9.71426380e-06, 1.16741596e-07, ...,\n",
       "         1.24198274e-09, 8.90086477e-11, 8.64116070e-11],\n",
       "        [9.98880446e-01, 8.82374661e-06, 1.05931719e-07, ...,\n",
       "         1.05919284e-09, 7.46916834e-11, 7.24946700e-11]],\n",
       "\n",
       "       ...,\n",
       "\n",
       "       [[1.91046838e-05, 8.15540147e-07, 7.88594961e-01, ...,\n",
       "         4.19613544e-09, 2.90691626e-09, 2.38666686e-09],\n",
       "        [3.38613405e-04, 6.29760470e-05, 3.11001614e-02, ...,\n",
       "         2.20009227e-07, 1.04994774e-06, 9.90228045e-07],\n",
       "        [7.31994724e-03, 2.31725466e-03, 8.57987348e-03, ...,\n",
       "         1.51638926e-06, 8.20810271e-07, 5.97798930e-07],\n",
       "        ...,\n",
       "        [9.95367765e-01, 5.96069458e-06, 9.04735043e-06, ...,\n",
       "         1.19953683e-08, 2.20294047e-10, 2.20346588e-10],\n",
       "        [9.98951674e-01, 1.57827174e-06, 1.43226725e-06, ...,\n",
       "         1.27148825e-09, 2.04963008e-11, 1.99748534e-11],\n",
       "        [9.99377191e-01, 1.13715225e-06, 6.40019778e-07, ...,\n",
       "         5.71024117e-10, 9.33815091e-12, 8.64540904e-12]],\n",
       "\n",
       "       [[7.84423464e-05, 3.32759805e-02, 7.37231530e-05, ...,\n",
       "         2.93537923e-08, 8.32189357e-08, 5.28939488e-08],\n",
       "        [9.85747683e-05, 1.97855681e-02, 7.44040226e-05, ...,\n",
       "         1.90023300e-07, 5.03540423e-06, 3.50834944e-06],\n",
       "        [9.73370392e-04, 4.53397818e-03, 5.93414181e-04, ...,\n",
       "         4.32697504e-07, 8.82081849e-07, 7.20715946e-07],\n",
       "        ...,\n",
       "        [8.72361422e-01, 8.32287595e-04, 3.19684186e-05, ...,\n",
       "         5.09606764e-07, 4.33305729e-08, 3.97012165e-08],\n",
       "        [9.91536856e-01, 6.95146737e-05, 1.08227380e-06, ...,\n",
       "         1.69328782e-08, 9.58609525e-10, 8.01668121e-10],\n",
       "        [9.98400271e-01, 1.12799426e-05, 1.56208060e-07, ...,\n",
       "         1.84667126e-09, 8.95515745e-11, 6.91053950e-11]],\n",
       "\n",
       "       [[6.47684908e-04, 5.88595285e-04, 1.95356389e-03, ...,\n",
       "         9.96438416e-07, 1.14563659e-06, 1.15984642e-06],\n",
       "        [1.06347492e-03, 1.96352950e-03, 1.04917075e-04, ...,\n",
       "         1.18379205e-06, 1.03076227e-05, 9.27800647e-06],\n",
       "        [2.40647290e-02, 3.83832329e-03, 4.49835970e-05, ...,\n",
       "         4.68950657e-06, 4.24919972e-06, 3.84352870e-06],\n",
       "        ...,\n",
       "        [9.99287665e-01, 3.97785470e-06, 1.30337057e-07, ...,\n",
       "         8.44049441e-10, 2.40775663e-11, 2.09948968e-11],\n",
       "        [9.99640107e-01, 1.63719460e-06, 5.14314671e-08, ...,\n",
       "         2.48294191e-10, 7.67148411e-12, 6.60221704e-12],\n",
       "        [9.99654651e-01, 1.50770529e-06, 4.70814108e-08, ...,\n",
       "         2.26270544e-10, 7.05800219e-12, 6.09601735e-12]]], dtype=float32)"
      ]
     },
     "execution_count": 20,
     "metadata": {},
     "output_type": "execute_result"
    }
   ],
   "source": [
    "preds"
   ]
  },
  {
   "cell_type": "code",
   "execution_count": null,
   "id": "93be3a4d",
   "metadata": {
    "papermill": {
     "duration": 0.181071,
     "end_time": "2023-07-20T15:44:31.568346",
     "exception": false,
     "start_time": "2023-07-20T15:44:31.387275",
     "status": "completed"
    },
    "tags": []
   },
   "outputs": [],
   "source": []
  }
 ],
 "metadata": {
  "kernelspec": {
   "display_name": "Python 3",
   "language": "python",
   "name": "python3"
  },
  "language_info": {
   "codemirror_mode": {
    "name": "ipython",
    "version": 3
   },
   "file_extension": ".py",
   "mimetype": "text/x-python",
   "name": "python",
   "nbconvert_exporter": "python",
   "pygments_lexer": "ipython3",
   "version": "3.10.12"
  },
  "papermill": {
   "default_parameters": {},
   "duration": 634.111817,
   "end_time": "2023-07-20T15:44:35.156879",
   "environment_variables": {},
   "exception": null,
   "input_path": "__notebook__.ipynb",
   "output_path": "__notebook__.ipynb",
   "parameters": {},
   "start_time": "2023-07-20T15:34:01.045062",
   "version": "2.4.0"
  }
 },
 "nbformat": 4,
 "nbformat_minor": 5
}
